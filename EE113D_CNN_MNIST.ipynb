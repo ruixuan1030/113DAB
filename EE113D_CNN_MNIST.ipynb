{
  "nbformat": 4,
  "nbformat_minor": 0,
  "metadata": {
    "colab": {
      "name": "EE113D_CNN_MNIST.ipynb",
      "provenance": [],
      "collapsed_sections": []
    },
    "kernelspec": {
      "name": "python3",
      "display_name": "Python 3"
    }
  },
  "cells": [
    {
      "cell_type": "code",
      "metadata": {
        "id": "BP1dPElKZ22L",
        "colab": {
          "base_uri": "https://localhost:8080/"
        },
        "outputId": "ea38d202-54e5-44b3-9b75-d61e424818c9"
      },
      "source": [
        "#import libraries for nerualnet, math and visualization\n",
        "from __future__ import absolute_import, division, print_function, unicode_literals\n",
        "\n",
        "try:\n",
        "  # %tensorflow_version only exists in Colab.\n",
        "  %tensorflow_version 2.x\n",
        "except Exception:\n",
        "  pass\n",
        "import tensorflow as tf\n",
        "import numpy as np\n",
        "import matplotlib.pyplot as plt\n",
        "from tensorflow.keras import datasets, layers, models\n",
        "print(tf.__version__)"
      ],
      "execution_count": null,
      "outputs": [
        {
          "output_type": "stream",
          "name": "stdout",
          "text": [
            "2.7.0\n"
          ]
        }
      ]
    },
    {
      "cell_type": "code",
      "metadata": {
        "id": "XFdvAMcb6zGH"
      },
      "source": [
        "#set seed just for the demonstration\n",
        "#tf.random.set_seed(1000);\n",
        "#load in the MNIST dataset for training and testing\n",
        "(train_images, train_labels), (test_images, test_labels) = datasets.mnist.load_data()"
      ],
      "execution_count": null,
      "outputs": []
    },
    {
      "cell_type": "code",
      "metadata": {
        "id": "clYsH88R610K",
        "colab": {
          "base_uri": "https://localhost:8080/",
          "height": 265
        },
        "outputId": "3ef10b22-a947-434f-92d0-01c668cff1d9"
      },
      "source": [
        "#Plot an image to see what it looks like\n",
        "plt.figure()\n",
        "plt.imshow(train_images[5], cmap=plt.cm.binary)\n",
        "plt.grid(False)\n",
        "plt.show()"
      ],
      "execution_count": null,
      "outputs": [
        {
          "output_type": "display_data",
          "data": {
            "image/png": "[encoded data removed]",
            "text/plain": [
              "<Figure size 432x288 with 1 Axes>"
            ]
          },
          "metadata": {
            "needs_background": "light"
          }
        }
      ]
    },
    {
      "cell_type": "code",
      "metadata": {
        "id": "CHeVPtLMbDya"
      },
      "source": [
        "#TODO: Modify the CNN structure for a slimer network\n",
        "#Build the neuralnet model\n",
        "#model = models.Sequential()\n",
        "#model.add(layers.Conv2D(32, (3, 3), activation='relu', input_shape=(28, 28, 1), padding='same'))\n",
        "#model.add(layers.MaxPooling2D((2, 2)))\n",
        "#model.add(layers.Conv2D(64, (3, 3), activation='relu', padding='same'))\n",
        "#model.add(layers.MaxPooling2D((2, 2)))\n",
        "#model.add(layers.Conv2D(64, (3, 3), activation='relu', padding='same'))\n",
        "#model.add(layers.MaxPooling2D((2, 2)))\n",
        "#model.add(layers.Flatten())\n",
        "#model.add(layers.Dense(10, activation='softmax'))"
      ],
      "execution_count": null,
      "outputs": []
    },
    {
      "cell_type": "code",
      "metadata": {
        "colab": {
          "base_uri": "https://localhost:8080/"
        },
        "id": "QiXs__eKEaIy",
        "outputId": "873bbcd9-4418-41ff-bad8-b52323b5e23f"
      },
      "source": [
        "#diem\n",
        "model = models.Sequential()\n",
        "model.add(layers.Conv2D(16, (3, 3), activation='relu', input_shape=(28, 28, 1), padding='same'))\n",
        "model.add(layers.MaxPooling2D((2, 2)))\n",
        "model.add(layers.Conv2D(32, (3, 3), activation='relu', padding='same'))\n",
        "model.add(layers.MaxPooling2D((2, 2)))\n",
        "#model.add(layers.Conv2D(6, (3, 3), activation='relu', padding='same'))\n",
        "#model.add(layers.MaxPooling2D((2, 2)))\n",
        "model.add(layers.Flatten())\n",
        "model.add(layers.Dense(10, activation='softmax'))\n",
        "#Review the overall model structure\n",
        "model.summary()"
      ],
      "execution_count": null,
      "outputs": [
        {
          "output_type": "stream",
          "name": "stdout",
          "text": [
            "Model: \"sequential_1\"\n",
            "_________________________________________________________________\n",
            " Layer (type)                Output Shape              Param #   \n",
            "=================================================================\n",
            " conv2d_2 (Conv2D)           (None, 28, 28, 16)        160       \n",
            "                                                                 \n",
            " max_pooling2d_2 (MaxPooling  (None, 14, 14, 16)       0         \n",
            " 2D)                                                             \n",
            "                                                                 \n",
            " conv2d_3 (Conv2D)           (None, 14, 14, 32)        4640      \n",
            "                                                                 \n",
            " max_pooling2d_3 (MaxPooling  (None, 7, 7, 32)         0         \n",
            " 2D)                                                             \n",
            "                                                                 \n",
            " flatten_1 (Flatten)         (None, 1568)              0         \n",
            "                                                                 \n",
            " dense_1 (Dense)             (None, 10)                15690     \n",
            "                                                                 \n",
            "=================================================================\n",
            "Total params: 20,490\n",
            "Trainable params: 20,490\n",
            "Non-trainable params: 0\n",
            "_________________________________________________________________\n"
          ]
        }
      ]
    },
    {
      "cell_type": "code",
      "metadata": {
        "id": "Gbq7qT6wbG2a"
      },
      "source": [
        "#Review the overall model structure\n",
        "#model.summary()"
      ],
      "execution_count": null,
      "outputs": []
    },
    {
      "cell_type": "code",
      "metadata": {
        "id": "9hT2MdJia8yY"
      },
      "source": [
        "#Reshape the image so it can train in batch (and fit the model's input shape)\n",
        "train_images = train_images.reshape((60000, 28, 28, 1))\n",
        "test_images = test_images.reshape((10000, 28, 28, 1))"
      ],
      "execution_count": null,
      "outputs": []
    },
    {
      "cell_type": "code",
      "metadata": {
        "id": "9bo_jOAhbKPZ",
        "colab": {
          "base_uri": "https://localhost:8080/"
        },
        "outputId": "2a149f91-e015-41db-a33d-dba91f6635aa"
      },
      "source": [
        "#Training the model\n",
        "#Hint: change optimizer to 'sgd', and increase epochs if result is bad.\n",
        "model.compile(optimizer='adam',\n",
        "              loss='sparse_categorical_crossentropy',\n",
        "              metrics=['accuracy'])\n",
        "\n",
        "model.fit(train_images, train_labels, epochs=20)"
      ],
      "execution_count": null,
      "outputs": [
        {
          "output_type": "stream",
          "name": "stdout",
          "text": [
            "Epoch 1/20\n",
            "1875/1875 [==============================] - 42s 22ms/step - loss: 0.4031 - accuracy: 0.9380\n",
            "Epoch 2/20\n",
            "1875/1875 [==============================] - 43s 23ms/step - loss: 0.0764 - accuracy: 0.9767\n",
            "Epoch 3/20\n",
            "1875/1875 [==============================] - 44s 24ms/step - loss: 0.0581 - accuracy: 0.9822\n",
            "Epoch 4/20\n",
            "1875/1875 [==============================] - 44s 23ms/step - loss: 0.0494 - accuracy: 0.9845\n",
            "Epoch 5/20\n",
            "1875/1875 [==============================] - 43s 23ms/step - loss: 0.0414 - accuracy: 0.9873\n",
            "Epoch 6/20\n",
            "1875/1875 [==============================] - 44s 23ms/step - loss: 0.0405 - accuracy: 0.9877\n",
            "Epoch 7/20\n",
            "1875/1875 [==============================] - 44s 23ms/step - loss: 0.0383 - accuracy: 0.9881\n",
            "Epoch 8/20\n",
            "1875/1875 [==============================] - 44s 23ms/step - loss: 0.0301 - accuracy: 0.9905\n",
            "Epoch 9/20\n",
            "1875/1875 [==============================] - 45s 24ms/step - loss: 0.0295 - accuracy: 0.9909\n",
            "Epoch 10/20\n",
            "1875/1875 [==============================] - 44s 23ms/step - loss: 0.0295 - accuracy: 0.9916\n",
            "Epoch 11/20\n",
            "1875/1875 [==============================] - 44s 24ms/step - loss: 0.0278 - accuracy: 0.9919\n",
            "Epoch 12/20\n",
            "1875/1875 [==============================] - 45s 24ms/step - loss: 0.0258 - accuracy: 0.9931\n",
            "Epoch 13/20\n",
            "1875/1875 [==============================] - 45s 24ms/step - loss: 0.0274 - accuracy: 0.9929\n",
            "Epoch 14/20\n",
            "1875/1875 [==============================] - 44s 24ms/step - loss: 0.0234 - accuracy: 0.9938\n",
            "Epoch 15/20\n",
            "1875/1875 [==============================] - 44s 24ms/step - loss: 0.0214 - accuracy: 0.9941\n",
            "Epoch 16/20\n",
            "1875/1875 [==============================] - 45s 24ms/step - loss: 0.0228 - accuracy: 0.9941\n",
            "Epoch 17/20\n",
            "1875/1875 [==============================] - 45s 24ms/step - loss: 0.0228 - accuracy: 0.9940\n",
            "Epoch 18/20\n",
            "1875/1875 [==============================] - 45s 24ms/step - loss: 0.0198 - accuracy: 0.9953\n",
            "Epoch 19/20\n",
            "1875/1875 [==============================] - 44s 23ms/step - loss: 0.0248 - accuracy: 0.9944\n",
            "Epoch 20/20\n",
            "1875/1875 [==============================] - 43s 23ms/step - loss: 0.0219 - accuracy: 0.9950\n"
          ]
        },
        {
          "output_type": "execute_result",
          "data": {
            "text/plain": [
              "<keras.callbacks.History at 0x7effd1b8c4d0>"
            ]
          },
          "metadata": {},
          "execution_count": 30
        }
      ]
    },
    {
      "cell_type": "code",
      "metadata": {
        "id": "69XpWchnu0Hx",
        "colab": {
          "base_uri": "https://localhost:8080/"
        },
        "outputId": "94a970c0-4db1-4364-8e6f-da12d378e94f"
      },
      "source": [
        "#Evaluate the performance with testing dataset\n",
        "print(\"Accuracy of this model is:\")\n",
        "model.evaluate(test_images, test_labels)"
      ],
      "execution_count": null,
      "outputs": [
        {
          "output_type": "stream",
          "name": "stdout",
          "text": [
            "Accuracy of this model is:\n",
            "313/313 [==============================] - 3s 10ms/step - loss: 0.1385 - accuracy: 0.9842\n"
          ]
        },
        {
          "output_type": "execute_result",
          "data": {
            "text/plain": [
              "[0.13846145570278168, 0.9842000007629395]"
            ]
          },
          "metadata": {},
          "execution_count": 31
        }
      ]
    },
    {
      "cell_type": "code",
      "metadata": {
        "id": "mIVzVEhV25RF",
        "colab": {
          "base_uri": "https://localhost:8080/"
        },
        "outputId": "0c9f4ee6-78a4-4100-efa3-56afc17aa253"
      },
      "source": [
        "#View the total number of parameters, so it doesn't overflow the LCDK's memory\n",
        "print(\"Total amount of parameter of model is:\", model.count_params())"
      ],
      "execution_count": null,
      "outputs": [
        {
          "output_type": "stream",
          "name": "stdout",
          "text": [
            "Total amount of parameter of model is: 20490\n"
          ]
        }
      ]
    },
    {
      "cell_type": "code",
      "metadata": {
        "id": "Wa0XmRQV_Dni"
      },
      "source": [
        "#Example for extract parameter form the first conv layer\n",
        "#TODO: you need to actually modify model.layers[XXXX], this XXX to fit your actually layer number\n",
        "t1, t2 = model.layers[0].get_weights()\n",
        "np.savetxt('w1.txt', t1.flatten(), delimiter=',',fmt='%.16f') \n",
        "np.savetxt('b1.txt', t2.flatten(), delimiter=',',fmt='%.16f') "
      ],
      "execution_count": null,
      "outputs": []
    },
    {
      "cell_type": "code",
      "metadata": {
        "id": "vqyLX32NE1i7"
      },
      "source": [
        "#Example for extract parameter form the second conv layer\n",
        "#TODO: you need to actually modify model.layers[XXXX], this XXX to fit your actually layer number\n",
        "#And do it multiple times to save all the layer with parameters\n",
        "t1, t2 = model.layers[2].get_weights()\n",
        "np.savetxt('w2.txt', t1.flatten(), delimiter=',',fmt='%.16f') \n",
        "np.savetxt('b2.txt', t2.flatten(), delimiter=',',fmt='%.16f') "
      ],
      "execution_count": null,
      "outputs": []
    },
    {
      "cell_type": "code",
      "metadata": {
        "id": "0WYAi39wAy_0"
      },
      "source": [
        "# t1, t2 = model.layers[4].get_weights()\n",
        "# np.savetxt('w3.txt', t1.flatten(), delimiter=',',fmt='%.16f') \n",
        "# np.savetxt('b3.txt', t2.flatten(), delimiter=',',fmt='%.16f') "
      ],
      "execution_count": null,
      "outputs": []
    },
    {
      "cell_type": "code",
      "metadata": {
        "id": "jA5cme99Pa6T"
      },
      "source": [
        "t1, t2 = model.layers[5].get_weights()\n",
        "np.savetxt('fc.txt', t1.flatten(), delimiter=',',fmt='%.16f') \n",
        "np.savetxt('bc.txt', t2.flatten(), delimiter=',',fmt='%.16f') "
      ],
      "execution_count": null,
      "outputs": []
    },
    {
      "cell_type": "code",
      "metadata": {
        "id": "uPL19VUQ12rE"
      },
      "source": [
        "import cv2"
      ],
      "execution_count": null,
      "outputs": []
    },
    {
      "cell_type": "code",
      "metadata": {
        "id": "rzV-AlGc14pO"
      },
      "source": [
        "im = cv2.imread(\"num7.bmp\")\n",
        "im = cv2.flip(im,0)\n",
        "im = im[:,:,0]\n",
        "for i in range (28):\n",
        "  for j in range (28):\n",
        "    im[i,j]=255 -im[i,j]\n"
      ],
      "execution_count": null,
      "outputs": []
    },
    {
      "cell_type": "code",
      "metadata": {
        "colab": {
          "base_uri": "https://localhost:8080/"
        },
        "id": "yaz2gW0Z2PC9",
        "outputId": "9bb85d3c-4e3e-4066-a26b-c6b2267a9e27"
      },
      "source": [
        "im.shape"
      ],
      "execution_count": null,
      "outputs": [
        {
          "output_type": "execute_result",
          "data": {
            "text/plain": [
              "(28, 28)"
            ]
          },
          "metadata": {},
          "execution_count": 49
        }
      ]
    },
    {
      "cell_type": "code",
      "metadata": {
        "colab": {
          "base_uri": "https://localhost:8080/",
          "height": 282
        },
        "id": "oLozcs442Q-d",
        "outputId": "1c4299e4-44a1-474b-839f-ee0969e343f3"
      },
      "source": [
        "plt.imshow(im, cmap=plt.cm.binary)"
      ],
      "execution_count": null,
      "outputs": [
        {
          "output_type": "execute_result",
          "data": {
            "text/plain": [
              "<matplotlib.image.AxesImage at 0x7effd18bcbd0>"
            ]
          },
          "metadata": {},
          "execution_count": 50
        },
        {
          "output_type": "display_data",
          "data": {
            "image/png": "[encoded data removed]",
            "text/plain": [
              "<Figure size 432x288 with 1 Axes>"
            ]
          },
          "metadata": {
            "needs_background": "light"
          }
        }
      ]
    },
    {
      "cell_type": "code",
      "metadata": {
        "id": "4G4YqU5p3K-C"
      },
      "source": [
        "im = im.reshape(1,28,28,1)"
      ],
      "execution_count": null,
      "outputs": []
    },
    {
      "cell_type": "code",
      "metadata": {
        "colab": {
          "base_uri": "https://localhost:8080/"
        },
        "id": "0As6Xrb53QI-",
        "outputId": "bfc317dd-e455-45a3-84d0-4dc40119d662"
      },
      "source": [
        "model.predict(im)"
      ],
      "execution_count": null,
      "outputs": [
        {
          "output_type": "execute_result",
          "data": {
            "text/plain": [
              "array([[6.9705730e-35, 1.5201940e-16, 1.3742151e-22, 2.0156587e-24,\n",
              "        1.5461872e-13, 1.7622024e-19, 2.1085472e-21, 1.0000000e+00,\n",
              "        2.8086321e-19, 6.5138695e-19]], dtype=float32)"
            ]
          },
          "metadata": {},
          "execution_count": 52
        }
      ]
    }
  ]
}